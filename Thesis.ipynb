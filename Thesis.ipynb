{
  "nbformat": 4,
  "nbformat_minor": 0,
  "metadata": {
    "colab": {
      "provenance": [],
      "gpuType": "T4",
      "authorship_tag": "ABX9TyMUywSk+CD5ar5TdbdtSq0H",
      "include_colab_link": true
    },
    "kernelspec": {
      "name": "python3",
      "display_name": "Python 3"
    },
    "language_info": {
      "name": "python"
    },
    "accelerator": "GPU"
  },
  "cells": [
    {
      "cell_type": "markdown",
      "metadata": {
        "id": "view-in-github",
        "colab_type": "text"
      },
      "source": [
        "<a href=\"https://colab.research.google.com/github/hamidzangiabadi/LSTM-HHO-IoMT-Colab/blob/colab/Thesis.ipynb\" target=\"_parent\"><img src=\"https://colab.research.google.com/assets/colab-badge.svg\" alt=\"Open In Colab\"/></a>"
      ]
    },
    {
      "cell_type": "code",
      "execution_count": 13,
      "metadata": {
        "id": "KtxA2FB17Ur_"
      },
      "outputs": [],
      "source": [
        "import numpy as np\n",
        "import random\n",
        "import math\n",
        "import time\n",
        "import cupy as cp\n",
        "import time"
      ]
    },
    {
      "cell_type": "markdown",
      "source": [
        "# Implement a simple HHO algorithm\n",
        "\n",
        "Description of HHO:\n",
        "\n"
      ],
      "metadata": {
        "id": "fSQvZAjg7iit"
      }
    },
    {
      "cell_type": "markdown",
      "source": [
        "Useful functions"
      ],
      "metadata": {
        "id": "JGADMC6ZxRka"
      }
    },
    {
      "cell_type": "code",
      "source": [
        "# the function to optimize\n",
        "def sphere_function(x):\n",
        "    return cp.sum(x**2)\n",
        "\n",
        "def Levy(dim):\n",
        "    beta = 1.5\n",
        "    sigma = ( math.gamma(1+beta) * math.sin(math.pi*beta/2) /\n",
        "             ( math.gamma((1+beta)/2) * beta * 2**((beta-1)/2) ) )**(1/beta)\n",
        "    u = 0.01 * np.random.randn(dim) * sigma\n",
        "    v = np.random.randn(dim)\n",
        "    zz = np.power(np.abs(v), (1/beta))\n",
        "    step = u / zz\n",
        "    return step\n",
        "\n",
        "def initialize_population(pop_size, dim, lb, ub):\n",
        "    return lb + np.random.rand(pop_size, dim) * (ub - lb)\n",
        "\n",
        "\n",
        "# Levy flight for GPU\n",
        "def levy_gpu(dim, beta=1.5):\n",
        "    sigma = ( math.gamma(1 + beta) * math.sin(math.pi * beta / 2) /\n",
        "              ( math.gamma((1 + beta) / 2) * beta * 2 ** ((beta - 1) / 2) ) ) ** (1 / beta)\n",
        "    u = 0.01 * np.random.randn(dim) * sigma\n",
        "    v = np.random.randn(dim)\n",
        "    step = u / (np.abs(v) ** (1 / beta))\n",
        "    return cp.asarray(step, dtype=cp.float32)\n",
        "\n"
      ],
      "metadata": {
        "id": "gcSVX1477jac"
      },
      "execution_count": null,
      "outputs": []
    },
    {
      "cell_type": "markdown",
      "source": [
        "# Compressed HHO and Simple HHO\n",
        "\n",
        "In Compressed version I used Levy flight also but optimize the functions and also run the method on GPU"
      ],
      "metadata": {
        "id": "x_k4RRH8wvsr"
      }
    },
    {
      "cell_type": "markdown",
      "source": [
        "Simple HHO"
      ],
      "metadata": {
        "id": "gdMlNoY7xBrY"
      }
    },
    {
      "cell_type": "code",
      "source": [
        "def HHO(objf, lb, ub, dim, SearchAgents_no, max_iter):\n",
        "\n",
        "    # Rabbit position (best solution so far)\n",
        "    Rabbit_Location = np.zeros(dim)\n",
        "    Rabbit_Energy = float(\"inf\")\n",
        "\n",
        "    # Hawks positions\n",
        "    X = initialize_population(SearchAgents_no, dim, lb, ub)\n",
        "\n",
        "    # Convergence curve\n",
        "    convergence_curve = np.zeros(max_iter)\n",
        "\n",
        "    print(f\"HHO is now tackling '{objf.__name__}'\")\n",
        "    timer_start = time.time()\n",
        "    for t in range(max_iter):\n",
        "        # Initilization\n",
        "        for i in range(SearchAgents_no):\n",
        "            X[i, :] = np.clip(X[i, :], lb, ub)\n",
        "            fitness = objf(X[i, :])\n",
        "            if fitness < Rabbit_Energy:\n",
        "                Rabbit_Energy = fitness\n",
        "                Rabbit_Location = X[i, :].copy()\n",
        "\n",
        "        E1 = 2 * (1 - t / max_iter)\n",
        "\n",
        "        # Hawks Movements\n",
        "        for i in range(SearchAgents_no):\n",
        "            E0 = 2 * random.random() - 1\n",
        "            Escaping_Energy = E1 * E0\n",
        "\n",
        "            if abs(Escaping_Energy) >= 1:\n",
        "                # Exploration Eq.1\n",
        "                q = random.random()\n",
        "                if q >= 0.5:\n",
        "                    r1 = random.random()\n",
        "                    r2 = random.random()\n",
        "                    rand_idx = math.floor(SearchAgents_no * random.random())\n",
        "                    X_rand = X[rand_idx, :]\n",
        "                    X[i, :] = X_rand - r1 * abs(X_rand - 2 * r2 * X[i, :])\n",
        "                else:\n",
        "                    r3 = random.random()\n",
        "                    r4 = random.random()\n",
        "                    X_mean = np.mean(X, axis=0)\n",
        "                    random_point = lb + r4 * (ub - lb)\n",
        "                    X[i, :] = (Rabbit_Location - X_mean) - r3 * (random_point)\n",
        "            else:\n",
        "                # Exploitation Eq.4-11\n",
        "                r = random.random()\n",
        "                Jump_Strength = 2 * (1 - random.random())\n",
        "\n",
        "                if r >= 0.5 and abs(Escaping_Energy) >= 0.5:\n",
        "                    DX = Rabbit_Location - X[i, :]\n",
        "                    X[i, :] = DX - Escaping_Energy * abs(Jump_Strength * Rabbit_Location - X[i, :])\n",
        "\n",
        "                if r >= 0.5 and abs(Escaping_Energy) < 0.5:\n",
        "                    X[i, :] = Rabbit_Location - Escaping_Energy * abs(Rabbit_Location - X[i, :])\n",
        "\n",
        "                if r < 0.5 and abs(Escaping_Energy) >= 0.5:\n",
        "                    X1 = Rabbit_Location - Escaping_Energy * abs(Jump_Strength * Rabbit_Location - X[i, :])\n",
        "                    if objf(X1) < objf(X[i, :]):\n",
        "                        X[i, :] = X1.copy()\n",
        "                    else:\n",
        "                        X2 = X1 + np.multiply(np.random.randn(dim), Levy(dim))\n",
        "                        if objf(X2) < objf(X[i, :]):\n",
        "                            X[i, :] = X2.copy()\n",
        "\n",
        "                if r < 0.5 and abs(Escaping_Energy) < 0.5:\n",
        "                    X1 = Rabbit_Location - Escaping_Energy * abs(Jump_Strength * Rabbit_Location - np.mean(X, axis=0))\n",
        "                    if objf(X1) < objf(X[i, :]):\n",
        "                        X[i, :] = X1.copy()\n",
        "                    else:\n",
        "                        X2 = X1 + np.multiply(np.random.randn(dim), Levy(dim))\n",
        "                        if objf(X2) < objf(X[i, :]):\n",
        "                            X[i, :] = X2.copy()\n",
        "\n",
        "        # Diversity restore\n",
        "        for i in range(SearchAgents_no):\n",
        "            X[i, :] = np.clip(X[i, :], lb, ub)\n",
        "            fitness = objf(X[i, :])\n",
        "            if fitness < Rabbit_Energy:\n",
        "                Rabbit_Energy = fitness\n",
        "                Rabbit_Location = X[i, :].copy()\n",
        "\n",
        "        convergence_curve[t] = Rabbit_Energy\n",
        "        print(f\"Iteration {t+1}/{max_iter} | Best fitness: {Rabbit_Energy:.6f}\")\n",
        "\n",
        "    timer_end = time.time()\n",
        "    execution_time = timer_end - timer_start\n",
        "\n",
        "    return {\n",
        "        \"best_fitness\": Rabbit_Energy,\n",
        "        \"best_position\": Rabbit_Location,\n",
        "        \"convergence_curve\": convergence_curve,\n",
        "        \"execution_time\": execution_time\n",
        "    }\n"
      ],
      "metadata": {
        "id": "B4NOxtzew_B7"
      },
      "execution_count": null,
      "outputs": []
    },
    {
      "cell_type": "markdown",
      "source": [
        "Optimized Adaptive HHO"
      ],
      "metadata": {
        "id": "Gg1B6QJFxDmI"
      }
    },
    {
      "cell_type": "code",
      "source": [
        "\n",
        "def compressed_hho_adaptive(fitness_func, lb, ub, dim, N, max_iter,\n",
        "                             stagnation_limit=20, max_reset_rate=0.5):\n",
        "    # Inilization of the population\n",
        "    X = cp.random.uniform(lb, ub, (N, dim))  # Hawks Population\n",
        "\n",
        "    fit = cp.array([fitness_func(cp.asnumpy(X[i])) for i in range(N)])  # Initial fitness\n",
        "\n",
        "    best_idx = int(cp.argmin(fit))\n",
        "    best_pos = X[best_idx].copy()\n",
        "    best_fit = fit[best_idx].copy()\n",
        "\n",
        "    stagnation_counter = 0\n",
        "\n",
        "    # Main Loop Of The HHO\n",
        "    for t in range(max_iter):\n",
        "        # Escaping energy of the prey\n",
        "        E = 2 * (1 - t / max_iter) * cp.random.uniform(-1, 1)\n",
        "        noise_scale = 1.0 + (stagnation_counter / stagnation_limit)\n",
        "\n",
        "        for i in range(N):\n",
        "            if cp.abs(E) >= 1:  # Exploration phase\n",
        "                q = cp.random.uniform()\n",
        "                if q >= 0.5:\n",
        "                    X[i] = cp.random.uniform(lb, ub, size=dim)\n",
        "                else:\n",
        "                    X[i] = best_pos - cp.random.uniform() * (ub - lb)\n",
        "            else:  # Exploitation phase\n",
        "                lf_step = levy_gpu(dim) * noise_scale\n",
        "                X[i] += cp.random.uniform() * (best_pos - X[i]) + lf_step\n",
        "\n",
        "            # Boundary clipping\n",
        "            X[i] = cp.clip(X[i], lb, ub)\n",
        "\n",
        "        # Fitness evaluation\n",
        "        fit = cp.array([fitness_func(cp.asnumpy(X[i])) for i in range(N)])\n",
        "        min_idx = int(cp.argmin(fit))\n",
        "\n",
        "        if fit[min_idx] < best_fit:\n",
        "            best_fit = fit[min_idx]\n",
        "            best_pos = X[min_idx].copy()\n",
        "            stagnation_counter = 0\n",
        "        else:\n",
        "            stagnation_counter += 1\n",
        "\n",
        "        # Diversity restore\n",
        "        if stagnation_counter >= stagnation_limit:\n",
        "            reset_rate = min(max_reset_rate, 0.2 + stagnation_counter / (2 * stagnation_limit))\n",
        "            reset_count = max(1, int(reset_rate * N))\n",
        "            rand_idx = cp.random.choice(N, reset_count, replace=False)\n",
        "            X[rand_idx] = cp.random.uniform(lb, ub, (reset_count, dim))\n",
        "            stagnation_counter = 0\n",
        "\n",
        "        # Logging\n",
        "        print(f\"Iter {t+1}/{max_iter} | Best Fitness: {float(best_fit):.6e}\")\n",
        "\n",
        "    return cp.asnumpy(best_pos), float(best_fit)\n",
        "\n",
        "best_pos, best_fit = compressed_hho_adaptive(\n",
        "    sphere_function, lb=-10, ub=10, dim=30,\n",
        "    N=30, max_iter=500\n",
        ")\n",
        "print(\"\\nBest Position:\", best_pos)\n",
        "print(\"Best Fitness:\", best_fit)\n"
      ],
      "metadata": {
        "id": "k5Gctoj2xFmz"
      },
      "execution_count": null,
      "outputs": []
    },
    {
      "cell_type": "markdown",
      "source": [
        "# LSTM\n",
        "\n",
        "## Preprocessing\n",
        "\n",
        "- normalization\n",
        "- min max scaler\n",
        "\n",
        "---\n",
        "\n",
        "## Training\n",
        "\n",
        "- train dataset\n",
        "- validation dataset\n",
        "- test dataset\n",
        "\n",
        "---\n",
        "\n",
        "## Confusion matrix\n",
        "\n",
        "- plot the matrix\n",
        "\n",
        "---\n",
        "\n",
        "## Saving the model\n",
        "\n",
        "- save with .h5\n"
      ],
      "metadata": {
        "id": "3Ud_N6t4cDDz"
      }
    },
    {
      "cell_type": "markdown",
      "source": [
        "# Compressed Version of HHO\n",
        "\n",
        "In the original HHO, exploitation involves precise moves based on distance to the prey, escape factors (J), and Levy flights to escape local optima. It uses two Rapid Dive steps with separate fitness tests, requiring temporary storage of multiple positions (X1, X2, X_new…) and comparisons.  \n",
        "\n",
        "In the compressed version, the goal is to remove extra storage and comparisons. Instead of fully executing the Rapid Dive and Soft Besiege formulas, it applies a single combined step: move toward `best_pos` plus Gaussian noise. This noise (`cp.random.normal`) acts like Levy flights or random diversity, but runs simpler and faster on GPU, reducing both GPU memory usage and fitness function calls."
      ],
      "metadata": {
        "id": "9W9_YDIfiKuA"
      }
    },
    {
      "cell_type": "markdown",
      "source": [
        "# Fitness function and required functions\n"
      ],
      "metadata": {
        "id": "erXdASlOhe7I"
      }
    },
    {
      "cell_type": "code",
      "source": [
        "def create_lstm_model(lstm_units1, lstm_units2, dropout1, dropout2, lr)\n",
        "  pass\n",
        "\n",
        "def train_and_validate(model, batch_size):\n",
        "  pass\n"
      ],
      "metadata": {
        "id": "-zQ2rfqchMst"
      },
      "execution_count": null,
      "outputs": []
    },
    {
      "cell_type": "code",
      "source": [
        "# Our new fitness functin\n",
        "\n",
        "def fitness_function(params):\n",
        "  # params: [lstm_units1, lstm_units2, dropout1, dropout2, learning_rate, batch_size]\n",
        "  lstm_units1 = int(params[0])\n",
        "  lstm_units2 = int(params[1])\n",
        "  dropout1 = params[2]\n",
        "  dropout2 = params[3]\n",
        "  learning_rate = params[4]\n",
        "  batch_size = int(params[5])\n",
        "\n",
        "\n",
        "  model = create_lstm_model(lstm_units1, lstm_units2, dropout1, dropout2, learning_rate)\n",
        "\n",
        "  # Train the model\n",
        "  acc = train_and_validate(model, batch_size)\n",
        "\n",
        "  return -acc\n"
      ],
      "metadata": {
        "id": "MknxgafL7jPe"
      },
      "execution_count": null,
      "outputs": []
    },
    {
      "cell_type": "code",
      "source": [],
      "metadata": {
        "id": "m8JJwYBY7i8s"
      },
      "execution_count": null,
      "outputs": []
    },
    {
      "cell_type": "markdown",
      "source": [
        "# Implement HHO in LSTM"
      ],
      "metadata": {
        "id": "MAWWUdQUeaiY"
      }
    },
    {
      "cell_type": "code",
      "source": [],
      "metadata": {
        "id": "YOKtZd1OeZ6I"
      },
      "execution_count": null,
      "outputs": []
    }
  ]
}